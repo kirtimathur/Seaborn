{
 "cells": [
  {
   "cell_type": "code",
   "execution_count": 1,
   "id": "943edfa9",
   "metadata": {},
   "outputs": [],
   "source": [
    "import pandas as pd\n",
    "import seaborn as sns\n",
    "import matplotlib.pyplot as plt"
   ]
  },
  {
   "cell_type": "markdown",
   "id": "79a04690",
   "metadata": {},
   "source": [
    "### Barplot:\n",
    "- used for bivariate analysis when 1 col is categorical and other is numerical\n",
    "- used to compare the categories\n",
    "- can see all avg, max, total"
   ]
  },
  {
   "cell_type": "code",
   "execution_count": 2,
   "id": "86f349f1",
   "metadata": {},
   "outputs": [
    {
     "data": {
      "text/html": [
       "<div>\n",
       "<style scoped>\n",
       "    .dataframe tbody tr th:only-of-type {\n",
       "        vertical-align: middle;\n",
       "    }\n",
       "\n",
       "    .dataframe tbody tr th {\n",
       "        vertical-align: top;\n",
       "    }\n",
       "\n",
       "    .dataframe thead th {\n",
       "        text-align: right;\n",
       "    }\n",
       "</style>\n",
       "<table border=\"1\" class=\"dataframe\">\n",
       "  <thead>\n",
       "    <tr style=\"text-align: right;\">\n",
       "      <th></th>\n",
       "      <th>total_bill</th>\n",
       "      <th>tip</th>\n",
       "      <th>sex</th>\n",
       "      <th>smoker</th>\n",
       "      <th>day</th>\n",
       "      <th>time</th>\n",
       "      <th>size</th>\n",
       "    </tr>\n",
       "  </thead>\n",
       "  <tbody>\n",
       "    <tr>\n",
       "      <th>0</th>\n",
       "      <td>16.99</td>\n",
       "      <td>1.01</td>\n",
       "      <td>Female</td>\n",
       "      <td>No</td>\n",
       "      <td>Sun</td>\n",
       "      <td>Dinner</td>\n",
       "      <td>2</td>\n",
       "    </tr>\n",
       "    <tr>\n",
       "      <th>1</th>\n",
       "      <td>10.34</td>\n",
       "      <td>1.66</td>\n",
       "      <td>Male</td>\n",
       "      <td>No</td>\n",
       "      <td>Sun</td>\n",
       "      <td>Dinner</td>\n",
       "      <td>3</td>\n",
       "    </tr>\n",
       "    <tr>\n",
       "      <th>2</th>\n",
       "      <td>21.01</td>\n",
       "      <td>3.50</td>\n",
       "      <td>Male</td>\n",
       "      <td>No</td>\n",
       "      <td>Sun</td>\n",
       "      <td>Dinner</td>\n",
       "      <td>3</td>\n",
       "    </tr>\n",
       "    <tr>\n",
       "      <th>3</th>\n",
       "      <td>23.68</td>\n",
       "      <td>3.31</td>\n",
       "      <td>Male</td>\n",
       "      <td>No</td>\n",
       "      <td>Sun</td>\n",
       "      <td>Dinner</td>\n",
       "      <td>2</td>\n",
       "    </tr>\n",
       "    <tr>\n",
       "      <th>4</th>\n",
       "      <td>24.59</td>\n",
       "      <td>3.61</td>\n",
       "      <td>Female</td>\n",
       "      <td>No</td>\n",
       "      <td>Sun</td>\n",
       "      <td>Dinner</td>\n",
       "      <td>4</td>\n",
       "    </tr>\n",
       "  </tbody>\n",
       "</table>\n",
       "</div>"
      ],
      "text/plain": [
       "   total_bill   tip     sex smoker  day    time  size\n",
       "0       16.99  1.01  Female     No  Sun  Dinner     2\n",
       "1       10.34  1.66    Male     No  Sun  Dinner     3\n",
       "2       21.01  3.50    Male     No  Sun  Dinner     3\n",
       "3       23.68  3.31    Male     No  Sun  Dinner     2\n",
       "4       24.59  3.61  Female     No  Sun  Dinner     4"
      ]
     },
     "execution_count": 2,
     "metadata": {},
     "output_type": "execute_result"
    }
   ],
   "source": [
    "df=sns.load_dataset(\"tips\")\n",
    "df.head()"
   ]
  },
  {
   "cell_type": "markdown",
   "id": "95cd9830",
   "metadata": {},
   "source": [
    "#### Find out who(categoric) paid max bill(numeric)"
   ]
  },
  {
   "cell_type": "code",
   "execution_count": 3,
   "id": "84ec08b2",
   "metadata": {},
   "outputs": [
    {
     "data": {
      "image/png": "[encoded data removed]",
      "text/plain": [
       "<Figure size 360x360 with 1 Axes>"
      ]
     },
     "metadata": {
      "needs_background": "light"
     },
     "output_type": "display_data"
    }
   ],
   "source": [
    "sns.catplot(x=\"sex\",y=\"total_bill\",data=df,kind=\"bar\");\n",
    "#catplot:bigger umbrella can make all categoric plots\n",
    "#Options are: \"strip\", \"swarm\", \"box\", \"violin\",\"boxen\", \"point\", \"bar\", or \"count\""
   ]
  },
  {
   "cell_type": "markdown",
   "id": "d1854def",
   "metadata": {},
   "source": [
    "- Above is based on average bill payed, checking using Pandas"
   ]
  },
  {
   "cell_type": "code",
   "execution_count": 4,
   "id": "b3aa47b7",
   "metadata": {},
   "outputs": [
    {
     "data": {
      "text/plain": [
       "sex\n",
       "Male      20.744076\n",
       "Female    18.056897\n",
       "Name: total_bill, dtype: float64"
      ]
     },
     "execution_count": 4,
     "metadata": {},
     "output_type": "execute_result"
    }
   ],
   "source": [
    "df.groupby(\"sex\")[\"total_bill\"].mean()"
   ]
  },
  {
   "cell_type": "markdown",
   "id": "aef335b6",
   "metadata": {},
   "source": [
    "- estimator=<function mean at 0x000001E9E5EAF310> (by default is mean)"
   ]
  },
  {
   "cell_type": "code",
   "execution_count": 5,
   "id": "e99582b6",
   "metadata": {},
   "outputs": [
    {
     "data": {
      "image/png": "[encoded data removed]",
      "text/plain": [
       "<Figure size 360x360 with 1 Axes>"
      ]
     },
     "metadata": {
      "needs_background": "light"
     },
     "output_type": "display_data"
    }
   ],
   "source": [
    "sns.catplot(x=\"sex\",y=\"total_bill\",data=df,kind=\"bar\",estimator=sum);"
   ]
  },
  {
   "cell_type": "code",
   "execution_count": 6,
   "id": "e112958d",
   "metadata": {},
   "outputs": [
    {
     "data": {
      "image/png": "[encoded data removed]",
      "text/plain": [
       "<Figure size 360x360 with 1 Axes>"
      ]
     },
     "metadata": {
      "needs_background": "light"
     },
     "output_type": "display_data"
    }
   ],
   "source": [
    "sns.catplot(x=\"sex\",y=\"total_bill\",data=df,kind=\"bar\",estimator=max);"
   ]
  },
  {
   "cell_type": "markdown",
   "id": "9d9b48ed",
   "metadata": {},
   "source": [
    "- Maximum bill payed was 50"
   ]
  },
  {
   "cell_type": "markdown",
   "id": "615a7868",
   "metadata": {},
   "source": [
    "#### On which day tip given by customer was maximum"
   ]
  },
  {
   "cell_type": "code",
   "execution_count": 7,
   "id": "47bdbb82",
   "metadata": {},
   "outputs": [
    {
     "data": {
      "image/png": "[encoded data removed]",
      "text/plain": [
       "<Figure size 432x288 with 1 Axes>"
      ]
     },
     "metadata": {
      "needs_background": "light"
     },
     "output_type": "display_data"
    }
   ],
   "source": [
    "sns.barplot(x=\"day\",y=\"tip\",data=df,estimator=max); #black lines not showing above, as max is reached"
   ]
  },
  {
   "cell_type": "markdown",
   "id": "0932c243",
   "metadata": {},
   "source": [
    "#### Who paid the highest tip based on avg on each day"
   ]
  },
  {
   "cell_type": "code",
   "execution_count": 8,
   "id": "9206159b",
   "metadata": {},
   "outputs": [
    {
     "data": {
      "image/png": "[encoded data removed]",
      "text/plain": [
       "<Figure size 432x288 with 1 Axes>"
      ]
     },
     "metadata": {
      "needs_background": "light"
     },
     "output_type": "display_data"
    }
   ],
   "source": [
    "sns.barplot(x=\"day\",y=\"tip\",data=df,hue=\"sex\"); "
   ]
  },
  {
   "cell_type": "markdown",
   "id": "f3564782",
   "metadata": {},
   "source": [
    "- avg tip given by female on thur is around 2.5\n",
    "- avg tip given by male on thur is around 3"
   ]
  },
  {
   "cell_type": "markdown",
   "id": "9cc79f80",
   "metadata": {},
   "source": [
    "#### Time when more smokers came"
   ]
  },
  {
   "cell_type": "code",
   "execution_count": 9,
   "id": "0882d412",
   "metadata": {},
   "outputs": [
    {
     "data": {
      "image/png": "[encoded data removed]",
      "text/plain": [
       "<Figure size 432x288 with 1 Axes>"
      ]
     },
     "metadata": {
      "needs_background": "light"
     },
     "output_type": "display_data"
    }
   ],
   "source": [
    "sns.countplot(x=\"smoker\",hue=\"time\",data=df); "
   ]
  },
  {
   "cell_type": "markdown",
   "id": "6c19f53a",
   "metadata": {},
   "source": [
    "#### Find out who paid the max bill (a smoker or non smoker)"
   ]
  },
  {
   "cell_type": "code",
   "execution_count": 10,
   "id": "91bfb7a2",
   "metadata": {},
   "outputs": [
    {
     "data": {
      "image/png": "[encoded data removed]",
      "text/plain": [
       "<Figure size 432x288 with 1 Axes>"
      ]
     },
     "metadata": {
      "needs_background": "light"
     },
     "output_type": "display_data"
    }
   ],
   "source": [
    "sns.barplot(x=\"smoker\",y=\"total_bill\",data=df);"
   ]
  }
 ],
 "metadata": {
  "kernelspec": {
   "display_name": "Python 3 (ipykernel)",
   "language": "python",
   "name": "python3"
  },
  "language_info": {
   "codemirror_mode": {
    "name": "ipython",
    "version": 3
   },
   "file_extension": ".py",
   "mimetype": "text/x-python",
   "name": "python",
   "nbconvert_exporter": "python",
   "pygments_lexer": "ipython3",
   "version": "3.9.12"
  }
 },
 "nbformat": 4,
 "nbformat_minor": 5
}
